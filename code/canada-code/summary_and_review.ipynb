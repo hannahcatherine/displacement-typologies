{
 "cells": [
  {
   "cell_type": "code",
   "execution_count": 27,
   "id": "32a7809c-42b1-4e67-88ee-be9040aa8c75",
   "metadata": {},
   "outputs": [],
   "source": [
    "import pandas as pd\n",
    "import numpy as np\n",
    "import sys\n",
    "import os\n",
    "from pathlib import Path\n",
    "import geopandas as gpd\n",
    "from shapely.geometry import Point\n",
    "from pyproj import Proj\n",
    "import matplotlib.pyplot as plt"
   ]
  },
  {
   "cell_type": "code",
   "execution_count": 28,
   "id": "f6670c40-7519-49a9-859a-c09981d40c4c",
   "metadata": {},
   "outputs": [],
   "source": [
    "input_path = 'E:\\\\forked_canada_udp/data/inputs/'\n",
    "output_path ='E:\\\\forked_canada_udp/data/outputs/'\n",
    "city_name = \"Vancouver\"\n",
    "all_typology = pd.read_csv(output_path+ str.lower(city_name)+'_final_output.csv', index_col = 0)"
   ]
  },
  {
   "cell_type": "code",
   "execution_count": 29,
   "id": "e6e1cf0a-6d3b-4f91-8891-1b6c21c34485",
   "metadata": {},
   "outputs": [
    {
     "data": {
      "text/plain": [
       "typ_cat\n",
       "['ARE']           104\n",
       "['ARG']             8\n",
       "['AdvG']           10\n",
       "['BE']             21\n",
       "['EOG']             3\n",
       "['LISD']           54\n",
       "['OD']              9\n",
       "['SAE', 'SGE']      5\n",
       "['SAE']            50\n",
       "['SMMI']          160\n",
       "dtype: int64"
      ]
     },
     "execution_count": 29,
     "metadata": {},
     "output_type": "execute_result"
    }
   ],
   "source": [
    "all_typology.groupby(\"typ_cat\").size()"
   ]
  },
  {
   "cell_type": "markdown",
   "id": "84be5b2c-40ed-4ae8-b046-8e777856dfb1",
   "metadata": {},
   "source": [
    "### Typologies"
   ]
  },
  {
   "cell_type": "code",
   "execution_count": 30,
   "id": "04ead923-1193-4d99-80b3-ba22cdb23a1d",
   "metadata": {},
   "outputs": [
    {
     "data": {
      "text/plain": [
       "Typology\n",
       "Advanced Gentrification                    19\n",
       "At Risk of Becoming Exclusive             104\n",
       "At Risk of Gentrification                   8\n",
       "Becoming Exclusive                         21\n",
       "Early/Ongoing Gentrification                7\n",
       "Low-Income/Susceptible to Displacement     46\n",
       "Ongoing Displacement                        4\n",
       "Stable Moderate/Mixed Income              160\n",
       "Stable/Advanced Exclusive                  50\n",
       "Super Gentrification and Exclusion          5\n",
       "dtype: int64"
      ]
     },
     "execution_count": 30,
     "metadata": {},
     "output_type": "execute_result"
    }
   ],
   "source": [
    "all_typology.groupby(\"Typology\").size()"
   ]
  },
  {
   "cell_type": "markdown",
   "id": "9429f030-4397-490f-bcc4-e5a6d8de7f71",
   "metadata": {},
   "source": [
    "### Findings: low-income households"
   ]
  },
  {
   "cell_type": "code",
   "execution_count": 26,
   "id": "8eaeb01f-2bfb-451c-8bc9-9a6031022702",
   "metadata": {},
   "outputs": [
    {
     "data": {
      "text/plain": [
       "368751.2460212461"
      ]
     },
     "execution_count": 26,
     "metadata": {},
     "output_type": "execute_result"
    }
   ],
   "source": [
    "# total number of low income households across the Vancouver CMA\n",
    "li_hh_tot = all_typology[\"all_li_count_16\"].sum()\n",
    "li_hh_tot"
   ]
  },
  {
   "cell_type": "code",
   "execution_count": 29,
   "id": "342694e3-be63-4785-8b9c-7bdab2dd3002",
   "metadata": {},
   "outputs": [],
   "source": [
    "# census tracts classified as EOG / ARG / LISD / OD\n",
    "ARG_EOG_LISD_OD = (all_typology[\"Typology\"] == \"Early/Ongoing Gentrification\") | (all_typology[\"Typology\"] == \"At Risk of Gentrification\") | (all_typology[\"Typology\"] == \"Low-Income/Susceptible to Displacement\") | (all_typology[\"Typology\"] == \"Ongoing Displacement\") "
   ]
  },
  {
   "cell_type": "code",
   "execution_count": 32,
   "id": "2811e8b9-da53-488c-9a19-6a58e6799a9d",
   "metadata": {},
   "outputs": [
    {
     "data": {
      "text/plain": [
       "100026.42228142229"
      ]
     },
     "execution_count": 32,
     "metadata": {},
     "output_type": "execute_result"
    }
   ],
   "source": [
    "# total number of low income households living in an ARG or EOG census tract\n",
    "li_ARG_EOG_LISD_OD = all_typology[ARG_EOG_LISD_OD][\"all_li_count_16\"].sum()\n",
    "li_ARG_EOG_LISD_OD"
   ]
  },
  {
   "cell_type": "code",
   "execution_count": 33,
   "id": "2b14579d-cffc-451a-8ad1-a66503a757d2",
   "metadata": {},
   "outputs": [
    {
     "data": {
      "text/plain": [
       "0.27125717773346625"
      ]
     },
     "execution_count": 33,
     "metadata": {},
     "output_type": "execute_result"
    }
   ],
   "source": [
    "# percentage of low income households living in an ARG or EOG tract\n",
    "pct_li_ARG_or_EOG = li_ARG_EOG_LISD_OD / li_hh_tot\n",
    "pct_li_ARG_or_EOG"
   ]
  },
  {
   "cell_type": "code",
   "execution_count": 34,
   "id": "25d0331c-979d-4d63-994b-f723c9a5def3",
   "metadata": {},
   "outputs": [
    {
     "data": {
      "text/plain": [
       "Region.Name\n",
       "Vancouver              0.368164\n",
       "Richmond               0.135369\n",
       "Surrey                 0.105596\n",
       "Burnaby                0.096362\n",
       "Coquitlam              0.069099\n",
       "Langley                0.050581\n",
       "Greater Vancouver A    0.034483\n",
       "Maple Ridge            0.034106\n",
       "North Vancouver        0.030629\n",
       "White Rock             0.026995\n",
       "New Westminster        0.026298\n",
       "Capilano 5             0.022317\n",
       "Name: all_li_count_16, dtype: float64"
      ]
     },
     "execution_count": 34,
     "metadata": {},
     "output_type": "execute_result"
    }
   ],
   "source": [
    "# geographic distribution of low income households in EOG or ARG tracts\n",
    "all_typology[ARG_EOG_LISD_OD == 1].groupby(\"Region.Name\").agg('sum')[\"all_li_count_16\"].sort_values(ascending = False) / li_ARG_EOG_LISD_OD"
   ]
  },
  {
   "cell_type": "code",
   "execution_count": 21,
   "id": "919b83aa-4502-41ff-90e1-879fc1165e53",
   "metadata": {},
   "outputs": [
    {
     "data": {
      "text/plain": [
       "Typology\n",
       "Stable Moderate/Mixed Income              0.360276\n",
       "At Risk of Becoming Exclusive             0.206639\n",
       "Low-Income/Susceptible to Displacement    0.193576\n",
       "Advanced Gentrification                   0.061792\n",
       "Stable/Advanced Exclusive                 0.051374\n",
       "Becoming Exclusive                        0.045650\n",
       "Early/Ongoing Gentrification              0.031918\n",
       "At Risk of Gentrification                 0.027675\n",
       "Ongoing Displacement                      0.018088\n",
       "Super Gentrification and Exclusion        0.003012\n",
       "Name: all_li_count_16, dtype: float64"
      ]
     },
     "execution_count": 21,
     "metadata": {},
     "output_type": "execute_result"
    }
   ],
   "source": [
    "# distribution of low income households according to typology\n",
    "(all_typology.groupby(\"Typology\").agg('sum')[\"all_li_count_16\"].sort_values(ascending = False) / li_hh_tot).sort_values(ascending = False)"
   ]
  },
  {
   "cell_type": "code",
   "execution_count": 36,
   "id": "a52f0d6f-05e4-48fc-8841-53e4440bf2d1",
   "metadata": {},
   "outputs": [
    {
     "data": {
      "text/plain": [
       "Typology\n",
       "Stable Moderate/Mixed Income              0.371894\n",
       "At Risk of Becoming Exclusive             0.244330\n",
       "Low-Income/Susceptible to Displacement    0.136632\n",
       "Stable/Advanced Exclusive                 0.090096\n",
       "Advanced Gentrification                   0.049920\n",
       "Becoming Exclusive                        0.048992\n",
       "Early/Ongoing Gentrification              0.020283\n",
       "At Risk of Gentrification                 0.018832\n",
       "Ongoing Displacement                      0.013124\n",
       "Super Gentrification and Exclusion        0.005898\n",
       "Name: hh_16, dtype: float64"
      ]
     },
     "execution_count": 36,
     "metadata": {},
     "output_type": "execute_result"
    }
   ],
   "source": [
    "proportions = all_typology.groupby([\"Typology\", \"Region.Name\"]).agg('sum')[\"hh_16\"] / all_typology.groupby([\"Region.Name\", \"\"[\"hh_16\"].sum()).sort_values(ascending = False)\n",
    "proportions"
   ]
  },
  {
   "cell_type": "code",
   "execution_count": 304,
   "id": "477adf53-ddb8-4b4f-86e3-aeba5533fa16",
   "metadata": {},
   "outputs": [
    {
     "data": {
      "text/plain": [
       "Typology\n",
       "Advanced Gentrification                   0.044811\n",
       "At Risk of Becoming Exclusive             0.245283\n",
       "At Risk of Gentrification                 0.018868\n",
       "Becoming Exclusive                        0.049528\n",
       "Early/Ongoing Gentrification              0.016509\n",
       "Low-Income/Susceptible to Displacement    0.108491\n",
       "Ongoing Displacement                      0.009434\n",
       "Stable Moderate/Mixed Income              0.377358\n",
       "Stable/Advanced Exclusive                 0.117925\n",
       "Super Gentrification and Exclusion        0.011792\n",
       "dtype: float64"
      ]
     },
     "execution_count": 304,
     "metadata": {},
     "output_type": "execute_result"
    }
   ],
   "source": []
  },
  {
   "cell_type": "code",
   "execution_count": 130,
   "id": "d5c6ca5f-4524-4b49-ae49-f5055e69d99f",
   "metadata": {},
   "outputs": [
    {
     "data": {
      "text/plain": [
       "0.3985849056603774"
      ]
     },
     "execution_count": 130,
     "metadata": {},
     "output_type": "execute_result"
    }
   ],
   "source": [
    "proportions.values[1] + proportions.values[3] + proportions.values[8] + proportions.values[9]"
   ]
  },
  {
   "cell_type": "code",
   "execution_count": 37,
   "id": "10c8e1be-0d07-4d64-bc05-745c9a78b568",
   "metadata": {},
   "outputs": [],
   "source": [
    "gentrification = all_typology[(all_typology[\"Typology\"] == \"Advanced Gentrification\") |\n",
    "                             (all_typology[\"Typology\"] == \"At Risk of Gentrification\") |\n",
    "                             (all_typology[\"Typology\"] == \"Early/Ongoing Gentrification\")]"
   ]
  },
  {
   "cell_type": "code",
   "execution_count": 39,
   "id": "0192070c-381e-4b05-840c-7e822eb46534",
   "metadata": {},
   "outputs": [
    {
     "data": {
      "text/plain": [
       "Region.Name\n",
       "Vancouver              0.338021\n",
       "Burnaby                0.215776\n",
       "New Westminster        0.163475\n",
       "Surrey                 0.134600\n",
       "Port Moody             0.051404\n",
       "Maple Ridge            0.028476\n",
       "Greater Vancouver A    0.026531\n",
       "White Rock             0.022529\n",
       "Richmond               0.019188\n",
       "Name: hh_16, dtype: float64"
      ]
     },
     "execution_count": 39,
     "metadata": {},
     "output_type": "execute_result"
    }
   ],
   "source": [
    "(gentrification.groupby(\"Region.Name\").agg('sum')[\"hh_16\"] / gentrification[\"hh_16\"].sum()).sort_values(ascending = False)"
   ]
  },
  {
   "cell_type": "code",
   "execution_count": 307,
   "id": "229d5e64-0bf9-4b52-b216-cab545cdca3a",
   "metadata": {},
   "outputs": [
    {
     "data": {
      "text/plain": [
       "0.08018867924528301"
      ]
     },
     "execution_count": 307,
     "metadata": {},
     "output_type": "execute_result"
    }
   ],
   "source": [
    "gentrification.groupby(\"Region.Name\").size().sum() / all_typology.groupby(\"Region.Name\").size().sum()"
   ]
  },
  {
   "cell_type": "code",
   "execution_count": 40,
   "id": "30644b46-c879-4249-bd7f-6ae2d70d0589",
   "metadata": {},
   "outputs": [],
   "source": [
    "exclusive = all_typology[(all_typology[\"Typology\"] == \"Becoming Exclusive\") |\n",
    "                             (all_typology[\"Typology\"] == \"At Risk of Becoming Exclusive\") |\n",
    "                             (all_typology[\"Typology\"] == \"Stable/Advanced Exclusive\") |\n",
    "                             (all_typology[\"Typology\"] == \"Super Gentrification and Exclusion\")\n",
    "                        ]"
   ]
  },
  {
   "cell_type": "code",
   "execution_count": 309,
   "id": "c6b4be07-575e-4a63-a64e-ad2fd8ff61d6",
   "metadata": {},
   "outputs": [
    {
     "data": {
      "text/plain": [
       "0.42452830188679247"
      ]
     },
     "execution_count": 309,
     "metadata": {},
     "output_type": "execute_result"
    }
   ],
   "source": [
    "exclusive.groupby(\"Region.Name\").agg('sum')[\"hh_16\"] / all_typology.groupby(\"Region.Name\").size().sum()"
   ]
  },
  {
   "cell_type": "code",
   "execution_count": 41,
   "id": "05cda5d6-d90e-4e73-b6a9-ac6b53a093aa",
   "metadata": {},
   "outputs": [
    {
     "data": {
      "text/plain": [
       "Region.Name\n",
       "Surrey             0.279591\n",
       "Vancouver          0.174393\n",
       "Langley            0.081481\n",
       "North Vancouver    0.074379\n",
       "Delta              0.067162\n",
       "Port Coquitlam     0.062024\n",
       "Burnaby            0.058637\n",
       "Coquitlam          0.050602\n",
       "Maple Ridge        0.046733\n",
       "Richmond           0.036408\n",
       "Port Moody         0.025029\n",
       "New Westminster    0.016127\n",
       "Pitt Meadows       0.010327\n",
       "White Rock         0.009441\n",
       "West Vancouver     0.007667\n",
       "Name: hh_16, dtype: float64"
      ]
     },
     "execution_count": 41,
     "metadata": {},
     "output_type": "execute_result"
    }
   ],
   "source": [
    "(exclusive.groupby(\"Region.Name\").agg('sum')[\"hh_16\"] / exclusive[\"hh_16\"].sum()).sort_values(ascending = False)"
   ]
  },
  {
   "cell_type": "code",
   "execution_count": null,
   "id": "a43f1826-766f-42cf-8159-51fbe711fb3e",
   "metadata": {},
   "outputs": [],
   "source": []
  }
 ],
 "metadata": {
  "kernelspec": {
   "display_name": "Python 3",
   "language": "python",
   "name": "python3"
  },
  "language_info": {
   "codemirror_mode": {
    "name": "ipython",
    "version": 3
   },
   "file_extension": ".py",
   "mimetype": "text/x-python",
   "name": "python",
   "nbconvert_exporter": "python",
   "pygments_lexer": "ipython3",
   "version": "3.8.3"
  }
 },
 "nbformat": 4,
 "nbformat_minor": 5
}
