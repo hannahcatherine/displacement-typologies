{
 "cells": [
  {
   "cell_type": "code",
   "execution_count": 5,
   "id": "32a7809c-42b1-4e67-88ee-be9040aa8c75",
   "metadata": {},
   "outputs": [],
   "source": [
    "import pandas as pd\n",
    "import numpy as np\n",
    "import sys\n",
    "import os\n",
    "from pathlib import Path\n",
    "import geopandas as gpd\n",
    "from shapely.geometry import Point\n",
    "from pyproj import Proj\n",
    "import matplotlib.pyplot as plt"
   ]
  },
  {
   "cell_type": "code",
   "execution_count": 6,
   "id": "f6670c40-7519-49a9-859a-c09981d40c4c",
   "metadata": {},
   "outputs": [],
   "source": [
    "input_path = 'E:\\\\forked_canada_udp/data/inputs/'\n",
    "output_path ='E:\\\\forked_canada_udp/data/outputs/typologies/'\n",
    "city_name = \"Toronto\"\n",
    "all_typology = pd.read_csv(output_path + str.lower(city_name)+'_final_output.csv', index_col = 0)"
   ]
  },
  {
   "cell_type": "markdown",
   "id": "84be5b2c-40ed-4ae8-b046-8e777856dfb1",
   "metadata": {},
   "source": [
    "### Typologies"
   ]
  },
  {
   "cell_type": "code",
   "execution_count": 13,
   "id": "04ead923-1193-4d99-80b3-ba22cdb23a1d",
   "metadata": {},
   "outputs": [],
   "source": [
    "# by census tract\n",
    "in_city = all_typology[all_typology[\"Region.Name\"] == \"Toronto\"]\n",
    "not_city = all_typology[all_typology[\"Region.Name\"] != \"Toronto\"]"
   ]
  },
  {
   "cell_type": "code",
   "execution_count": 16,
   "id": "30c00ede-e2a5-4f3a-90d4-083d7199e391",
   "metadata": {},
   "outputs": [
    {
     "data": {
      "text/plain": [
       "555"
      ]
     },
     "execution_count": 16,
     "metadata": {},
     "output_type": "execute_result"
    }
   ],
   "source": [
    "in_city.groupby(\"Typology\").size().sum()"
   ]
  },
  {
   "cell_type": "code",
   "execution_count": 17,
   "id": "7ae16dd1-b69f-43e1-ad66-beeb369425f8",
   "metadata": {},
   "outputs": [
    {
     "data": {
      "text/plain": [
       "521"
      ]
     },
     "execution_count": 17,
     "metadata": {},
     "output_type": "execute_result"
    }
   ],
   "source": [
    "not_city.groupby(\"Typology\").size().sum()"
   ]
  },
  {
   "cell_type": "code",
   "execution_count": null,
   "id": "6fa9f183-4fad-4065-af64-2059ab9e8023",
   "metadata": {},
   "outputs": [],
   "source": []
  },
  {
   "cell_type": "code",
   "execution_count": 65,
   "id": "df4573eb-6775-4723-aeb7-b82da02b8215",
   "metadata": {},
   "outputs": [
    {
     "data": {
      "text/plain": [
       "Typology\n",
       "Stable Moderate/Mixed Income              0.393868\n",
       "At Risk of Becoming Exclusive             0.250000\n",
       "Low-Income/Susceptible to Displacement    0.110849\n",
       "Stable/Advanced Exclusive                 0.084906\n",
       "Becoming Exclusive                        0.056604\n",
       "Advanced Gentrification                   0.047170\n",
       "At Risk of Gentrification                 0.018868\n",
       "Early/Ongoing Gentrification              0.014151\n",
       "Super Gentrification and Exclusion        0.014151\n",
       "Ongoing Displacement                      0.009434\n",
       "dtype: float64"
      ]
     },
     "execution_count": 65,
     "metadata": {},
     "output_type": "execute_result"
    }
   ],
   "source": [
    "# proportion of census tracts according to typology\n",
    "proportions = (all_typology.groupby([\"Typology\"]).size() / all_typology.groupby([\"Typology\"]).size().sum()).sort_values(ascending = False)\n",
    "proportions"
   ]
  },
  {
   "cell_type": "markdown",
   "id": "a7b454be-9761-43b2-aac6-5105f05f483c",
   "metadata": {},
   "source": [
    "### Findings: all households"
   ]
  },
  {
   "cell_type": "code",
   "execution_count": 18,
   "id": "11ce65eb-0c5b-44ef-ad82-1c3d8e9a3f7e",
   "metadata": {},
   "outputs": [
    {
     "data": {
      "text/plain": [
       "Typology\n",
       "Stable Moderate/Mixed Income              0.272122\n",
       "At Risk of Becoming Exclusive             0.222743\n",
       "Becoming Exclusive                        0.168695\n",
       "Low-Income/Susceptible to Displacement    0.128509\n",
       "Advanced Gentrification                   0.087471\n",
       "Early/Ongoing Gentrification              0.038583\n",
       "Ongoing Displacement                      0.023066\n",
       "Super Gentrification and Exclusion        0.019431\n",
       "Stable/Advanced Exclusive                 0.014590\n",
       "At Risk of Gentrification                 0.014071\n",
       "Unavailable or Unreliable Data            0.010718\n",
       "Name: hh_16, dtype: float64"
      ]
     },
     "execution_count": 18,
     "metadata": {},
     "output_type": "execute_result"
    }
   ],
   "source": [
    "# by % of all households\n",
    "(in_city.groupby(\"Typology\").agg('sum')[\"hh_16\"] / in_city[\"hh_16\"].sum()).sort_values(ascending = False)"
   ]
  },
  {
   "cell_type": "markdown",
   "id": "9429f030-4397-490f-bcc4-e5a6d8de7f71",
   "metadata": {},
   "source": [
    "### Findings: low-income households"
   ]
  },
  {
   "cell_type": "code",
   "execution_count": 19,
   "id": "8eaeb01f-2bfb-451c-8bc9-9a6031022702",
   "metadata": {},
   "outputs": [
    {
     "data": {
      "text/plain": [
       "456431.7311617312"
      ]
     },
     "execution_count": 19,
     "metadata": {},
     "output_type": "execute_result"
    }
   ],
   "source": [
    "# total number of low income households across the Vancouver CMA\n",
    "li_hh_tot = in_city[\"all_li_count_16\"].sum()\n",
    "li_hh_tot"
   ]
  },
  {
   "cell_type": "code",
   "execution_count": 20,
   "id": "7641dde4-9a3e-4a9a-9e00-f19eacfb51a5",
   "metadata": {},
   "outputs": [
    {
     "data": {
      "text/plain": [
       "0.41228060154254054"
      ]
     },
     "execution_count": 20,
     "metadata": {},
     "output_type": "execute_result"
    }
   ],
   "source": [
    "li_hh_tot / in_city[\"hh_16\"].sum()"
   ]
  },
  {
   "cell_type": "code",
   "execution_count": 21,
   "id": "1c27b74f-f3f2-4505-aad5-cef2f5ae2ccf",
   "metadata": {},
   "outputs": [
    {
     "data": {
      "text/plain": [
       "Typology\n",
       "Stable Moderate/Mixed Income              0.245900\n",
       "At Risk of Becoming Exclusive             0.203299\n",
       "Low-Income/Susceptible to Displacement    0.174750\n",
       "Becoming Exclusive                        0.147049\n",
       "Advanced Gentrification                   0.100467\n",
       "Early/Ongoing Gentrification              0.052754\n",
       "Ongoing Displacement                      0.032293\n",
       "At Risk of Gentrification                 0.022420\n",
       "Stable/Advanced Exclusive                 0.008331\n",
       "Super Gentrification and Exclusion        0.007949\n",
       "Unavailable or Unreliable Data            0.004790\n",
       "Name: all_li_count_16, dtype: float64"
      ]
     },
     "execution_count": 21,
     "metadata": {},
     "output_type": "execute_result"
    }
   ],
   "source": [
    "(in_city.groupby(\"Typology\").agg('sum')[\"all_li_count_16\"] / li_hh_tot).sort_values(ascending = False)"
   ]
  },
  {
   "cell_type": "code",
   "execution_count": 71,
   "id": "342694e3-be63-4785-8b9c-7bdab2dd3002",
   "metadata": {},
   "outputs": [],
   "source": [
    "# census tracts classified as EOG / ARG / LISD / OD\n",
    "ARG_EOG_LISD_OD = (all_typology[\"Typology\"] == \"Early/Ongoing Gentrification\") | (all_typology[\"Typology\"] == \"At Risk of Gentrification\") | (all_typology[\"Typology\"] == \"Low-Income/Susceptible to Displacement\") | (all_typology[\"Typology\"] == \"Ongoing Displacement\") "
   ]
  },
  {
   "cell_type": "code",
   "execution_count": 72,
   "id": "2811e8b9-da53-488c-9a19-6a58e6799a9d",
   "metadata": {},
   "outputs": [
    {
     "data": {
      "text/plain": [
       "100026.42228142229"
      ]
     },
     "execution_count": 72,
     "metadata": {},
     "output_type": "execute_result"
    }
   ],
   "source": [
    "# total number of low income households living in an ARG or EOG census tract\n",
    "li_ARG_EOG_LISD_OD = all_typology[ARG_EOG_LISD_OD][\"all_li_count_16\"].sum()\n",
    "li_ARG_EOG_LISD_OD"
   ]
  },
  {
   "cell_type": "code",
   "execution_count": 73,
   "id": "2b14579d-cffc-451a-8ad1-a66503a757d2",
   "metadata": {},
   "outputs": [
    {
     "data": {
      "text/plain": [
       "0.27125717773346625"
      ]
     },
     "execution_count": 73,
     "metadata": {},
     "output_type": "execute_result"
    }
   ],
   "source": [
    "# percentage of low income households living in an ARG or EOG tract\n",
    "pct_li_ARG_or_EOG = li_ARG_EOG_LISD_OD / li_hh_tot\n",
    "pct_li_ARG_or_EOG"
   ]
  },
  {
   "cell_type": "code",
   "execution_count": 27,
   "id": "25d0331c-979d-4d63-994b-f723c9a5def3",
   "metadata": {},
   "outputs": [
    {
     "data": {
      "text/plain": [
       "Region.Name\n",
       "Vancouver              0.368164\n",
       "Richmond               0.135369\n",
       "Surrey                 0.105596\n",
       "Burnaby                0.096362\n",
       "Coquitlam              0.069099\n",
       "Langley                0.050581\n",
       "Greater Vancouver A    0.034483\n",
       "Maple Ridge            0.034106\n",
       "North Vancouver        0.030629\n",
       "White Rock             0.026995\n",
       "New Westminster        0.026298\n",
       "Capilano 5             0.022317\n",
       "Name: all_li_count_16, dtype: float64"
      ]
     },
     "execution_count": 27,
     "metadata": {},
     "output_type": "execute_result"
    }
   ],
   "source": [
    "# geographic distribution of low income households in EOG or ARG tracts\n",
    "all_typology[ARG_EOG_LISD_OD == 1].groupby(\"Region.Name\").agg('sum')[\"all_li_count_16\"].sort_values(ascending = False) / li_ARG_EOG_LISD_OD"
   ]
  },
  {
   "cell_type": "code",
   "execution_count": 28,
   "id": "919b83aa-4502-41ff-90e1-879fc1165e53",
   "metadata": {},
   "outputs": [
    {
     "data": {
      "text/plain": [
       "Typology\n",
       "Stable Moderate/Mixed Income              0.366411\n",
       "At Risk of Becoming Exclusive             0.209315\n",
       "Low-Income/Susceptible to Displacement    0.201664\n",
       "Advanced Gentrification                   0.062189\n",
       "Becoming Exclusive                        0.046594\n",
       "Stable/Advanced Exclusive                 0.038505\n",
       "At Risk of Gentrification                 0.027675\n",
       "Early/Ongoing Gentrification              0.023830\n",
       "Ongoing Displacement                      0.018088\n",
       "Super Gentrification and Exclusion        0.005729\n",
       "Name: all_li_count_16, dtype: float64"
      ]
     },
     "execution_count": 28,
     "metadata": {},
     "output_type": "execute_result"
    }
   ],
   "source": [
    "# distribution of low income households according to typology\n",
    "(all_typology.groupby(\"Typology\").agg('sum')[\"all_li_count_16\"].sort_values(ascending = False) / li_hh_tot).sort_values(ascending = False)"
   ]
  },
  {
   "cell_type": "code",
   "execution_count": 31,
   "id": "10c8e1be-0d07-4d64-bc05-745c9a78b568",
   "metadata": {},
   "outputs": [],
   "source": [
    "gentrification = all_typology[(all_typology[\"Typology\"] == \"Advanced Gentrification\") |\n",
    "                             (all_typology[\"Typology\"] == \"At Risk of Gentrification\") |\n",
    "                             (all_typology[\"Typology\"] == \"Early/Ongoing Gentrification\")]"
   ]
  },
  {
   "cell_type": "code",
   "execution_count": 32,
   "id": "0192070c-381e-4b05-840c-7e822eb46534",
   "metadata": {},
   "outputs": [
    {
     "data": {
      "text/plain": [
       "Region.Name\n",
       "Vancouver              0.298109\n",
       "Burnaby                0.226935\n",
       "New Westminster        0.171929\n",
       "Surrey                 0.147239\n",
       "Port Moody             0.054062\n",
       "Maple Ridge            0.029949\n",
       "Greater Vancouver A    0.027903\n",
       "White Rock             0.023694\n",
       "Richmond               0.020180\n",
       "Name: hh_16, dtype: float64"
      ]
     },
     "execution_count": 32,
     "metadata": {},
     "output_type": "execute_result"
    }
   ],
   "source": [
    "(gentrification.groupby(\"Region.Name\").agg('sum')[\"hh_16\"] / gentrification[\"hh_16\"].sum()).sort_values(ascending = False)"
   ]
  },
  {
   "cell_type": "code",
   "execution_count": 41,
   "id": "229d5e64-0bf9-4b52-b216-cab545cdca3a",
   "metadata": {},
   "outputs": [
    {
     "data": {
      "text/plain": [
       "0.08465678944920471"
      ]
     },
     "execution_count": 41,
     "metadata": {},
     "output_type": "execute_result"
    }
   ],
   "source": [
    "# households living in tracts classified as experiencing or at risk of gentrification\n",
    "(gentrification[\"hh_16\"].sum() / all_typology[\"hh_16\"].sum())"
   ]
  },
  {
   "cell_type": "code",
   "execution_count": 34,
   "id": "30644b46-c879-4249-bd7f-6ae2d70d0589",
   "metadata": {},
   "outputs": [],
   "source": [
    "exclusive = all_typology[(all_typology[\"Typology\"] == \"Becoming Exclusive\") |\n",
    "                             (all_typology[\"Typology\"] == \"At Risk of Becoming Exclusive\") |\n",
    "                             (all_typology[\"Typology\"] == \"Stable/Advanced Exclusive\") |\n",
    "                             (all_typology[\"Typology\"] == \"Super Gentrification and Exclusion\")\n",
    "                        ]"
   ]
  },
  {
   "cell_type": "code",
   "execution_count": 42,
   "id": "a046f68d-7d44-4933-b5c9-a04d007c4bd1",
   "metadata": {},
   "outputs": [
    {
     "data": {
      "text/plain": [
       "0.3773523329348257"
      ]
     },
     "execution_count": 42,
     "metadata": {},
     "output_type": "execute_result"
    }
   ],
   "source": [
    "# households living in tracts classified as at risk of becoming or already exclusive to low income households\n",
    "(exclusive[\"hh_16\"].sum() / all_typology[\"hh_16\"].sum())"
   ]
  },
  {
   "cell_type": "code",
   "execution_count": 44,
   "id": "c6b4be07-575e-4a63-a64e-ad2fd8ff61d6",
   "metadata": {},
   "outputs": [
    {
     "data": {
      "text/plain": [
       "Region.Name\n",
       "Surrey             0.283372\n",
       "Vancouver          0.175901\n",
       "Langley            0.084064\n",
       "Delta              0.064411\n",
       "Port Coquitlam     0.063990\n",
       "Burnaby            0.060496\n",
       "North Vancouver    0.059019\n",
       "Coquitlam          0.052206\n",
       "Maple Ridge        0.048214\n",
       "Richmond           0.037562\n",
       "Port Moody         0.025822\n",
       "New Westminster    0.016638\n",
       "Pitt Meadows       0.010655\n",
       "White Rock         0.009740\n",
       "West Vancouver     0.007910\n",
       "Name: hh_16, dtype: float64"
      ]
     },
     "execution_count": 44,
     "metadata": {},
     "output_type": "execute_result"
    }
   ],
   "source": [
    "# geographic distribution of households living in tracts classified as at risk of becoming or already exclusive to low income households\n",
    "(exclusive.groupby(\"Region.Name\").agg('sum')[\"hh_16\"] / exclusive[\"hh_16\"].sum()).sort_values(ascending = False)"
   ]
  },
  {
   "cell_type": "code",
   "execution_count": null,
   "id": "a43f1826-766f-42cf-8159-51fbe711fb3e",
   "metadata": {},
   "outputs": [],
   "source": []
  }
 ],
 "metadata": {
  "kernelspec": {
   "display_name": "Python 3",
   "language": "python",
   "name": "python3"
  },
  "language_info": {
   "codemirror_mode": {
    "name": "ipython",
    "version": 3
   },
   "file_extension": ".py",
   "mimetype": "text/x-python",
   "name": "python",
   "nbconvert_exporter": "python",
   "pygments_lexer": "ipython3",
   "version": "3.8.3"
  }
 },
 "nbformat": 4,
 "nbformat_minor": 5
}
